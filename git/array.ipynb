{
 "cells": [
  {
   "cell_type": "code",
   "execution_count": 1,
   "metadata": {},
   "outputs": [
    {
     "data": {
      "text/plain": [
       "[3, 4, 5, 6, 7, 1, 2]"
      ]
     },
     "execution_count": 1,
     "metadata": {},
     "output_type": "execute_result"
    }
   ],
   "source": [
    "def rotate(arr,n):\n",
    "    for i in range(n):\n",
    "        temp = arr[0]\n",
    "        b = 0\n",
    "        while b!= len(arr) -1:\n",
    "            arr[b] = arr[b+1]\n",
    "            b+=1\n",
    "        arr[b] = temp\n",
    "    return arr\n",
    "\n",
    "arr = [1,2,3,4,5,6,7]\n",
    "rotate(arr,2)"
   ]
  },
  {
   "cell_type": "code",
   "execution_count": 2,
   "metadata": {},
   "outputs": [
    {
     "data": {
      "text/plain": [
       "[-1, 1, 2, 3, 4, -1, 6, -1, -1, 9]"
      ]
     },
     "execution_count": 2,
     "metadata": {},
     "output_type": "execute_result"
    }
   ],
   "source": [
    "def rearrange(arr):\n",
    "    hs = set()\n",
    "    for i in range(len(arr)):\n",
    "        if arr[i] == -1:\n",
    "            pass\n",
    "        else:\n",
    "            hs.add(arr[i])\n",
    "    for j in range(len(arr)):\n",
    "        if j in hs:\n",
    "            arr[j] = j\n",
    "        else:\n",
    "            arr[j] = -1\n",
    "    return arr\n",
    "\n",
    "arr = [-1, -1, 6, 1, 9, 3, 2, -1, 4, -1]\n",
    "rearrange(arr)"
   ]
  },
  {
   "cell_type": "code",
   "execution_count": 3,
   "metadata": {},
   "outputs": [
    {
     "data": {
      "text/plain": [
       "[4, 4, 8, 0, 0, 0]"
      ]
     },
     "execution_count": 3,
     "metadata": {},
     "output_type": "execute_result"
    }
   ],
   "source": [
    "def double(arr):\n",
    "    for i in range(len(arr)-1):\n",
    "        if arr[i] == 0:\n",
    "            pass\n",
    "        if arr[i] == arr[i+1]:\n",
    "            arr[i] = arr[i]*2\n",
    "            arr[i+1] = 0\n",
    "    pos = 0\n",
    "    b = len(arr)\n",
    "    a = 0\n",
    "    while b !=0:\n",
    "        if arr[pos] != 0:\n",
    "            pos+=1\n",
    "        else:\n",
    "            arr[a],arr[pos] = arr[pos],arr[a]\n",
    "        b-=1\n",
    "        a+=1\n",
    "    return arr\n",
    "arr = [2, 2, 0, 4, 0, 8]\n",
    "double(arr)"
   ]
  },
  {
   "cell_type": "code",
   "execution_count": 5,
   "metadata": {},
   "outputs": [
    {
     "name": "stdout",
     "output_type": "stream",
     "text": [
      "Present\n"
     ]
    }
   ],
   "source": [
    "def search(X): \n",
    "  \n",
    "    if X >= 0: \n",
    "        return has[X][0] == 1\n",
    "  \n",
    "    # if X is negative take the absolute \n",
    "    # value of X. \n",
    "    X = abs(X) \n",
    "    return has[X][1] == 1\n",
    "  \n",
    "def insert(a, n): \n",
    "  \n",
    "    for i in range(0, n): \n",
    "        if a[i] >= 0: \n",
    "            has[a[i]][0] = 1\n",
    "        else: \n",
    "            has[abs(a[i])][1] = 1\n",
    "  \n",
    "# Driver code \n",
    "if __name__ == \"__main__\": \n",
    "  \n",
    "    a = [-1, 9, -5, -8, -5, -2] \n",
    "    n = len(a) \n",
    "  \n",
    "    MAX = 1000\n",
    "      \n",
    "    # Since array is global, it is \n",
    "    # initialized as 0. \n",
    "    has = [[0 for i in range(2)]  \n",
    "              for j in range(MAX + 1)] \n",
    "    #print(has)\n",
    "    insert(a, n) \n",
    "  \n",
    "    X = -5\n",
    "    if search(X) == True: \n",
    "        print(\"Present\") \n",
    "    else: \n",
    "        print(\"Not Present\") "
   ]
  }
 ],
 "metadata": {
  "kernelspec": {
   "display_name": "Python 3",
   "language": "python",
   "name": "python3"
  },
  "language_info": {
   "codemirror_mode": {
    "name": "ipython",
    "version": 3
   },
   "file_extension": ".py",
   "mimetype": "text/x-python",
   "name": "python",
   "nbconvert_exporter": "python",
   "pygments_lexer": "ipython3",
   "version": "3.7.4"
  }
 },
 "nbformat": 4,
 "nbformat_minor": 2
}
